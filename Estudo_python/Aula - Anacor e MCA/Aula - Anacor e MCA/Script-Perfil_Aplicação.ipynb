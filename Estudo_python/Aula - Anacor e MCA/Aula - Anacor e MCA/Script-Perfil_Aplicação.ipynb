{
 "cells": [
  {
   "cell_type": "code",
   "execution_count": 26,
   "id": "ab675f2c",
   "metadata": {},
   "outputs": [],
   "source": [
    "\n",
    "# Análise de Correspondência Simples e Múltipla\n",
    "# MBA em Data Science e Analytics USP ESALQ\n",
    "\n",
    "# Prof. Dr. Wilson Tarantin Junior"
   ]
  },
  {
   "cell_type": "code",
   "execution_count": 27,
   "id": "47f7e244",
   "metadata": {},
   "outputs": [
    {
     "name": "stdout",
     "output_type": "stream",
     "text": [
      "Requirement already satisfied: typing_extensions in c:\\users\\matheus.marchiore\\appdata\\local\\programs\\python\\python39\\lib\\site-packages (4.12.2)"
     ]
    },
    {
     "name": "stderr",
     "output_type": "stream",
     "text": [
      "WARNING: Ignoring invalid distribution -ip (c:\\users\\matheus.marchiore\\appdata\\local\\programs\\python\\python39\\lib\\site-packages)\n",
      "WARNING: Ignoring invalid distribution -ip (c:\\users\\matheus.marchiore\\appdata\\local\\programs\\python\\python39\\lib\\site-packages)\n",
      "\n",
      "[notice] A new release of pip is available: 24.0 -> 24.2\n",
      "[notice] To update, run: python.exe -m pip install --upgrade pip\n"
     ]
    },
    {
     "name": "stdout",
     "output_type": "stream",
     "text": [
      "\n"
     ]
    }
   ],
   "source": [
    "! pip install --upgrade typing_extensions\n"
   ]
  },
  {
   "cell_type": "code",
   "execution_count": 28,
   "id": "8c65824c",
   "metadata": {},
   "outputs": [
    {
     "name": "stdout",
     "output_type": "stream",
     "text": [
      "^C\n",
      "Requirement already satisfied: typing_extensions in c:\\users\\matheus.marchiore\\appdata\\local\\programs\\python\\python39\\lib\\site-packages (4.12.2)\n"
     ]
    },
    {
     "name": "stderr",
     "output_type": "stream",
     "text": [
      "WARNING: Ignoring invalid distribution -ip (c:\\users\\matheus.marchiore\\appdata\\local\\programs\\python\\python39\\lib\\site-packages)\n",
      "WARNING: Ignoring invalid distribution -ip (c:\\users\\matheus.marchiore\\appdata\\local\\programs\\python\\python39\\lib\\site-packages)\n",
      "\n",
      "[notice] A new release of pip is available: 24.0 -> 24.2\n",
      "[notice] To update, run: python.exe -m pip install --upgrade pip\n"
     ]
    }
   ],
   "source": [
    "! pip uninstall typing_extensions\n",
    "! pip install typing_extensions\n"
   ]
  },
  {
   "cell_type": "code",
   "execution_count": 21,
   "id": "7de4033a",
   "metadata": {},
   "outputs": [
    {
     "name": "stdout",
     "output_type": "stream",
     "text": [
      "Requirement already satisfied: typing_extensions in c:\\users\\matheus.marchiore\\appdata\\local\\programs\\python\\python39\\lib\\site-packages (4.12.2)\n"
     ]
    },
    {
     "name": "stderr",
     "output_type": "stream",
     "text": [
      "WARNING: Ignoring invalid distribution -ip (c:\\users\\matheus.marchiore\\appdata\\local\\programs\\python\\python39\\lib\\site-packages)\n",
      "WARNING: Ignoring invalid distribution -ip (c:\\users\\matheus.marchiore\\appdata\\local\\programs\\python\\python39\\lib\\site-packages)\n",
      "\n",
      "[notice] A new release of pip is available: 24.0 -> 24.2\n",
      "[notice] To update, run: python.exe -m pip install --upgrade pip\n"
     ]
    }
   ],
   "source": [
    "! pip install --upgrade typing_extensions\n"
   ]
  },
  {
   "cell_type": "code",
   "execution_count": 23,
   "id": "c0a74ca2",
   "metadata": {},
   "outputs": [
    {
     "name": "stdout",
     "output_type": "stream",
     "text": [
      "Requirement already satisfied: altair in c:\\users\\matheus.marchiore\\appdata\\local\\programs\\python\\python39\\lib\\site-packages (5.4.1)"
     ]
    },
    {
     "name": "stderr",
     "output_type": "stream",
     "text": [
      "WARNING: Ignoring invalid distribution -ip (c:\\users\\matheus.marchiore\\appdata\\local\\programs\\python\\python39\\lib\\site-packages)\n",
      "WARNING: Ignoring invalid distribution -ip (c:\\users\\matheus.marchiore\\appdata\\local\\programs\\python\\python39\\lib\\site-packages)\n",
      "\n",
      "[notice] A new release of pip is available: 24.0 -> 24.2\n",
      "[notice] To update, run: python.exe -m pip install --upgrade pip\n"
     ]
    },
    {
     "name": "stdout",
     "output_type": "stream",
     "text": [
      "\n",
      "Requirement already satisfied: prince in c:\\users\\matheus.marchiore\\appdata\\local\\programs\\python\\python39\\lib\\site-packages (0.13.1)\n",
      "Requirement already satisfied: jinja2 in c:\\users\\matheus.marchiore\\appdata\\local\\programs\\python\\python39\\lib\\site-packages (from altair) (3.1.4)\n",
      "Requirement already satisfied: jsonschema>=3.0 in c:\\users\\matheus.marchiore\\appdata\\local\\programs\\python\\python39\\lib\\site-packages (from altair) (4.23.0)\n",
      "Requirement already satisfied: narwhals>=1.5.2 in c:\\users\\matheus.marchiore\\appdata\\local\\programs\\python\\python39\\lib\\site-packages (from altair) (1.8.1)\n",
      "Requirement already satisfied: packaging in c:\\users\\matheus.marchiore\\appdata\\local\\programs\\python\\python39\\lib\\site-packages (from altair) (23.2)\n",
      "Requirement already satisfied: typing-extensions>=4.10.0 in c:\\users\\matheus.marchiore\\appdata\\local\\programs\\python\\python39\\lib\\site-packages (from altair) (4.12.2)\n",
      "Requirement already satisfied: pandas<3.0.0,>=1.4.1 in c:\\users\\matheus.marchiore\\appdata\\local\\programs\\python\\python39\\lib\\site-packages (from prince) (2.2.2)\n",
      "Requirement already satisfied: scikit-learn<2.0.0,>=1.0.2 in c:\\users\\matheus.marchiore\\appdata\\local\\programs\\python\\python39\\lib\\site-packages (from prince) (1.5.0)\n",
      "Requirement already satisfied: attrs>=22.2.0 in c:\\users\\matheus.marchiore\\appdata\\local\\programs\\python\\python39\\lib\\site-packages (from jsonschema>=3.0->altair) (24.2.0)\n",
      "Requirement already satisfied: jsonschema-specifications>=2023.03.6 in c:\\users\\matheus.marchiore\\appdata\\local\\programs\\python\\python39\\lib\\site-packages (from jsonschema>=3.0->altair) (2023.12.1)\n",
      "Requirement already satisfied: referencing>=0.28.4 in c:\\users\\matheus.marchiore\\appdata\\local\\programs\\python\\python39\\lib\\site-packages (from jsonschema>=3.0->altair) (0.35.1)\n",
      "Requirement already satisfied: rpds-py>=0.7.1 in c:\\users\\matheus.marchiore\\appdata\\local\\programs\\python\\python39\\lib\\site-packages (from jsonschema>=3.0->altair) (0.20.0)\n",
      "Requirement already satisfied: numpy>=1.22.4 in c:\\users\\matheus.marchiore\\appdata\\local\\programs\\python\\python39\\lib\\site-packages (from pandas<3.0.0,>=1.4.1->prince) (1.26.3)\n",
      "Requirement already satisfied: python-dateutil>=2.8.2 in c:\\users\\matheus.marchiore\\appdata\\local\\programs\\python\\python39\\lib\\site-packages (from pandas<3.0.0,>=1.4.1->prince) (2.8.2)\n",
      "Requirement already satisfied: pytz>=2020.1 in c:\\users\\matheus.marchiore\\appdata\\local\\programs\\python\\python39\\lib\\site-packages (from pandas<3.0.0,>=1.4.1->prince) (2023.4)\n",
      "Requirement already satisfied: tzdata>=2022.7 in c:\\users\\matheus.marchiore\\appdata\\local\\programs\\python\\python39\\lib\\site-packages (from pandas<3.0.0,>=1.4.1->prince) (2023.4)\n",
      "Requirement already satisfied: scipy>=1.6.0 in c:\\users\\matheus.marchiore\\appdata\\local\\programs\\python\\python39\\lib\\site-packages (from scikit-learn<2.0.0,>=1.0.2->prince) (1.13.0)\n",
      "Requirement already satisfied: joblib>=1.2.0 in c:\\users\\matheus.marchiore\\appdata\\local\\programs\\python\\python39\\lib\\site-packages (from scikit-learn<2.0.0,>=1.0.2->prince) (1.4.2)\n",
      "Requirement already satisfied: threadpoolctl>=3.1.0 in c:\\users\\matheus.marchiore\\appdata\\local\\programs\\python\\python39\\lib\\site-packages (from scikit-learn<2.0.0,>=1.0.2->prince) (3.5.0)\n",
      "Requirement already satisfied: MarkupSafe>=2.0 in c:\\users\\matheus.marchiore\\appdata\\local\\programs\\python\\python39\\lib\\site-packages (from jinja2->altair) (2.1.5)\n",
      "Requirement already satisfied: six>=1.5 in c:\\users\\matheus.marchiore\\appdata\\local\\programs\\python\\python39\\lib\\site-packages (from python-dateutil>=2.8.2->pandas<3.0.0,>=1.4.1->prince) (1.16.0)\n"
     ]
    }
   ],
   "source": [
    "! pip install --upgrade altair prince\n"
   ]
  },
  {
   "cell_type": "code",
   "execution_count": 9,
   "id": "9c235a82",
   "metadata": {
    "title": "Instalando os pacotes"
   },
   "outputs": [
    {
     "name": "stdout",
     "output_type": "stream",
     "text": [
      "Requirement already satisfied: pandas in c:\\users\\matheus.marchiore\\appdata\\local\\programs\\python\\python39\\lib\\site-packages (2.2.2)\n",
      "Requirement already satisfied: numpy>=1.22.4 in c:\\users\\matheus.marchiore\\appdata\\local\\programs\\python\\python39\\lib\\site-packages (from pandas) (1.26.3)\n",
      "Requirement already satisfied: python-dateutil>=2.8.2 in c:\\users\\matheus.marchiore\\appdata\\local\\programs\\python\\python39\\lib\\site-packages (from pandas) (2.8.2)\n",
      "Requirement already satisfied: pytz>=2020.1 in c:\\users\\matheus.marchiore\\appdata\\local\\programs\\python\\python39\\lib\\site-packages (from pandas) (2023.4)\n",
      "Requirement already satisfied: tzdata>=2022.7 in c:\\users\\matheus.marchiore\\appdata\\local\\programs\\python\\python39\\lib\\site-packages (from pandas) (2023.4)\n",
      "Requirement already satisfied: six>=1.5 in c:\\users\\matheus.marchiore\\appdata\\local\\programs\\python\\python39\\lib\\site-packages (from python-dateutil>=2.8.2->pandas) (1.16.0)\n"
     ]
    },
    {
     "name": "stderr",
     "output_type": "stream",
     "text": [
      "WARNING: Ignoring invalid distribution -ip (c:\\users\\matheus.marchiore\\appdata\\local\\programs\\python\\python39\\lib\\site-packages)\n",
      "WARNING: Ignoring invalid distribution -ip (c:\\users\\matheus.marchiore\\appdata\\local\\programs\\python\\python39\\lib\\site-packages)\n",
      "\n",
      "[notice] A new release of pip is available: 24.0 -> 24.2\n",
      "[notice] To update, run: python.exe -m pip install --upgrade pip\n"
     ]
    },
    {
     "name": "stdout",
     "output_type": "stream",
     "text": [
      "Requirement already satisfied: numpy in c:\\users\\matheus.marchiore\\appdata\\local\\programs\\python\\python39\\lib\\site-packages (1.26.3)\n"
     ]
    },
    {
     "name": "stderr",
     "output_type": "stream",
     "text": [
      "WARNING: Ignoring invalid distribution -ip (c:\\users\\matheus.marchiore\\appdata\\local\\programs\\python\\python39\\lib\\site-packages)\n",
      "WARNING: Ignoring invalid distribution -ip (c:\\users\\matheus.marchiore\\appdata\\local\\programs\\python\\python39\\lib\\site-packages)\n",
      "\n",
      "[notice] A new release of pip is available: 24.0 -> 24.2\n",
      "[notice] To update, run: python.exe -m pip install --upgrade pip\n"
     ]
    },
    {
     "name": "stdout",
     "output_type": "stream",
     "text": [
      "Requirement already satisfied: scipy in c:\\users\\matheus.marchiore\\appdata\\local\\programs\\python\\python39\\lib\\site-packages (1.13.0)\n",
      "Requirement already satisfied: numpy<2.3,>=1.22.4 in c:\\users\\matheus.marchiore\\appdata\\local\\programs\\python\\python39\\lib\\site-packages (from scipy) (1.26.3)\n"
     ]
    },
    {
     "name": "stderr",
     "output_type": "stream",
     "text": [
      "WARNING: Ignoring invalid distribution -ip (c:\\users\\matheus.marchiore\\appdata\\local\\programs\\python\\python39\\lib\\site-packages)\n",
      "WARNING: Ignoring invalid distribution -ip (c:\\users\\matheus.marchiore\\appdata\\local\\programs\\python\\python39\\lib\\site-packages)\n",
      "\n",
      "[notice] A new release of pip is available: 24.0 -> 24.2\n",
      "[notice] To update, run: python.exe -m pip install --upgrade pip\n"
     ]
    },
    {
     "name": "stdout",
     "output_type": "stream",
     "text": [
      "Requirement already satisfied: plotly in c:\\users\\matheus.marchiore\\appdata\\local\\programs\\python\\python39\\lib\\site-packages (5.22.0)\n",
      "Requirement already satisfied: tenacity>=6.2.0 in c:\\users\\matheus.marchiore\\appdata\\local\\programs\\python\\python39\\lib\\site-packages (from plotly) (8.4.2)\n",
      "Requirement already satisfied: packaging in c:\\users\\matheus.marchiore\\appdata\\local\\programs\\python\\python39\\lib\\site-packages (from plotly) (23.2)\n"
     ]
    },
    {
     "name": "stderr",
     "output_type": "stream",
     "text": [
      "WARNING: Ignoring invalid distribution -ip (c:\\users\\matheus.marchiore\\appdata\\local\\programs\\python\\python39\\lib\\site-packages)\n",
      "WARNING: Ignoring invalid distribution -ip (c:\\users\\matheus.marchiore\\appdata\\local\\programs\\python\\python39\\lib\\site-packages)\n",
      "\n",
      "[notice] A new release of pip is available: 24.0 -> 24.2\n",
      "[notice] To update, run: python.exe -m pip install --upgrade pip\n"
     ]
    },
    {
     "name": "stdout",
     "output_type": "stream",
     "text": [
      "Requirement already satisfied: seaborn in c:\\users\\matheus.marchiore\\appdata\\local\\programs\\python\\python39\\lib\\site-packages (0.13.2)\n",
      "Requirement already satisfied: numpy!=1.24.0,>=1.20 in c:\\users\\matheus.marchiore\\appdata\\local\\programs\\python\\python39\\lib\\site-packages (from seaborn) (1.26.3)\n",
      "Requirement already satisfied: pandas>=1.2 in c:\\users\\matheus.marchiore\\appdata\\local\\programs\\python\\python39\\lib\\site-packages (from seaborn) (2.2.2)\n",
      "Requirement already satisfied: matplotlib!=3.6.1,>=3.4 in c:\\users\\matheus.marchiore\\appdata\\local\\programs\\python\\python39\\lib\\site-packages (from seaborn) (3.8.2)\n",
      "Requirement already satisfied: contourpy>=1.0.1 in c:\\users\\matheus.marchiore\\appdata\\local\\programs\\python\\python39\\lib\\site-packages (from matplotlib!=3.6.1,>=3.4->seaborn) (1.2.0)\n",
      "Requirement already satisfied: cycler>=0.10 in c:\\users\\matheus.marchiore\\appdata\\local\\programs\\python\\python39\\lib\\site-packages (from matplotlib!=3.6.1,>=3.4->seaborn) (0.12.1)\n",
      "Requirement already satisfied: fonttools>=4.22.0 in c:\\users\\matheus.marchiore\\appdata\\local\\programs\\python\\python39\\lib\\site-packages (from matplotlib!=3.6.1,>=3.4->seaborn) (4.47.2)\n",
      "Requirement already satisfied: kiwisolver>=1.3.1 in c:\\users\\matheus.marchiore\\appdata\\local\\programs\\python\\python39\\lib\\site-packages (from matplotlib!=3.6.1,>=3.4->seaborn) (1.4.5)\n",
      "Requirement already satisfied: packaging>=20.0 in c:\\users\\matheus.marchiore\\appdata\\local\\programs\\python\\python39\\lib\\site-packages (from matplotlib!=3.6.1,>=3.4->seaborn) (23.2)\n",
      "Requirement already satisfied: pillow>=8 in c:\\users\\matheus.marchiore\\appdata\\local\\programs\\python\\python39\\lib\\site-packages (from matplotlib!=3.6.1,>=3.4->seaborn) (10.2.0)\n",
      "Requirement already satisfied: pyparsing>=2.3.1 in c:\\users\\matheus.marchiore\\appdata\\local\\programs\\python\\python39\\lib\\site-packages (from matplotlib!=3.6.1,>=3.4->seaborn) (3.1.1)\n",
      "Requirement already satisfied: python-dateutil>=2.7 in c:\\users\\matheus.marchiore\\appdata\\local\\programs\\python\\python39\\lib\\site-packages (from matplotlib!=3.6.1,>=3.4->seaborn) (2.8.2)\n",
      "Requirement already satisfied: importlib-resources>=3.2.0 in c:\\users\\matheus.marchiore\\appdata\\local\\programs\\python\\python39\\lib\\site-packages (from matplotlib!=3.6.1,>=3.4->seaborn) (6.1.1)\n",
      "Requirement already satisfied: pytz>=2020.1 in c:\\users\\matheus.marchiore\\appdata\\local\\programs\\python\\python39\\lib\\site-packages (from pandas>=1.2->seaborn) (2023.4)\n",
      "Requirement already satisfied: tzdata>=2022.7 in c:\\users\\matheus.marchiore\\appdata\\local\\programs\\python\\python39\\lib\\site-packages (from pandas>=1.2->seaborn) (2023.4)\n",
      "Requirement already satisfied: zipp>=3.1.0 in c:\\users\\matheus.marchiore\\appdata\\local\\programs\\python\\python39\\lib\\site-packages (from importlib-resources>=3.2.0->matplotlib!=3.6.1,>=3.4->seaborn) (3.17.0)\n",
      "Requirement already satisfied: six>=1.5 in c:\\users\\matheus.marchiore\\appdata\\local\\programs\\python\\python39\\lib\\site-packages (from python-dateutil>=2.7->matplotlib!=3.6.1,>=3.4->seaborn) (1.16.0)\n"
     ]
    },
    {
     "name": "stderr",
     "output_type": "stream",
     "text": [
      "WARNING: Ignoring invalid distribution -ip (c:\\users\\matheus.marchiore\\appdata\\local\\programs\\python\\python39\\lib\\site-packages)\n",
      "WARNING: Ignoring invalid distribution -ip (c:\\users\\matheus.marchiore\\appdata\\local\\programs\\python\\python39\\lib\\site-packages)\n",
      "\n",
      "[notice] A new release of pip is available: 24.0 -> 24.2\n",
      "[notice] To update, run: python.exe -m pip install --upgrade pip\n"
     ]
    },
    {
     "name": "stdout",
     "output_type": "stream",
     "text": [
      "Requirement already satisfied: matplotlib in c:\\users\\matheus.marchiore\\appdata\\local\\programs\\python\\python39\\lib\\site-packages (3.8.2)\n",
      "Requirement already satisfied: contourpy>=1.0.1 in c:\\users\\matheus.marchiore\\appdata\\local\\programs\\python\\python39\\lib\\site-packages (from matplotlib) (1.2.0)\n",
      "Requirement already satisfied: cycler>=0.10 in c:\\users\\matheus.marchiore\\appdata\\local\\programs\\python\\python39\\lib\\site-packages (from matplotlib) (0.12.1)\n",
      "Requirement already satisfied: fonttools>=4.22.0 in c:\\users\\matheus.marchiore\\appdata\\local\\programs\\python\\python39\\lib\\site-packages (from matplotlib) (4.47.2)\n",
      "Requirement already satisfied: kiwisolver>=1.3.1 in c:\\users\\matheus.marchiore\\appdata\\local\\programs\\python\\python39\\lib\\site-packages (from matplotlib) (1.4.5)\n",
      "Requirement already satisfied: numpy<2,>=1.21 in c:\\users\\matheus.marchiore\\appdata\\local\\programs\\python\\python39\\lib\\site-packages (from matplotlib) (1.26.3)\n",
      "Requirement already satisfied: packaging>=20.0 in c:\\users\\matheus.marchiore\\appdata\\local\\programs\\python\\python39\\lib\\site-packages (from matplotlib) (23.2)\n",
      "Requirement already satisfied: pillow>=8 in c:\\users\\matheus.marchiore\\appdata\\local\\programs\\python\\python39\\lib\\site-packages (from matplotlib) (10.2.0)\n",
      "Requirement already satisfied: pyparsing>=2.3.1 in c:\\users\\matheus.marchiore\\appdata\\local\\programs\\python\\python39\\lib\\site-packages (from matplotlib) (3.1.1)\n",
      "Requirement already satisfied: python-dateutil>=2.7 in c:\\users\\matheus.marchiore\\appdata\\local\\programs\\python\\python39\\lib\\site-packages (from matplotlib) (2.8.2)\n",
      "Requirement already satisfied: importlib-resources>=3.2.0 in c:\\users\\matheus.marchiore\\appdata\\local\\programs\\python\\python39\\lib\\site-packages (from matplotlib) (6.1.1)\n",
      "Requirement already satisfied: zipp>=3.1.0 in c:\\users\\matheus.marchiore\\appdata\\local\\programs\\python\\python39\\lib\\site-packages (from importlib-resources>=3.2.0->matplotlib) (3.17.0)\n",
      "Requirement already satisfied: six>=1.5 in c:\\users\\matheus.marchiore\\appdata\\local\\programs\\python\\python39\\lib\\site-packages (from python-dateutil>=2.7->matplotlib) (1.16.0)\n"
     ]
    },
    {
     "name": "stderr",
     "output_type": "stream",
     "text": [
      "WARNING: Ignoring invalid distribution -ip (c:\\users\\matheus.marchiore\\appdata\\local\\programs\\python\\python39\\lib\\site-packages)\n",
      "WARNING: Ignoring invalid distribution -ip (c:\\users\\matheus.marchiore\\appdata\\local\\programs\\python\\python39\\lib\\site-packages)\n",
      "\n",
      "[notice] A new release of pip is available: 24.0 -> 24.2\n",
      "[notice] To update, run: python.exe -m pip install --upgrade pip\n"
     ]
    },
    {
     "name": "stdout",
     "output_type": "stream",
     "text": [
      "Requirement already satisfied: statsmodels in c:\\users\\matheus.marchiore\\appdata\\local\\programs\\python\\python39\\lib\\site-packages (0.14.2)\n",
      "Requirement already satisfied: numpy>=1.22.3 in c:\\users\\matheus.marchiore\\appdata\\local\\programs\\python\\python39\\lib\\site-packages (from statsmodels) (1.26.3)\n",
      "Requirement already satisfied: scipy!=1.9.2,>=1.8 in c:\\users\\matheus.marchiore\\appdata\\local\\programs\\python\\python39\\lib\\site-packages (from statsmodels) (1.13.0)\n",
      "Requirement already satisfied: pandas!=2.1.0,>=1.4 in c:\\users\\matheus.marchiore\\appdata\\local\\programs\\python\\python39\\lib\\site-packages (from statsmodels) (2.2.2)\n",
      "Requirement already satisfied: patsy>=0.5.6 in c:\\users\\matheus.marchiore\\appdata\\local\\programs\\python\\python39\\lib\\site-packages (from statsmodels) (0.5.6)\n",
      "Requirement already satisfied: packaging>=21.3 in c:\\users\\matheus.marchiore\\appdata\\local\\programs\\python\\python39\\lib\\site-packages (from statsmodels) (23.2)\n",
      "Requirement already satisfied: python-dateutil>=2.8.2 in c:\\users\\matheus.marchiore\\appdata\\local\\programs\\python\\python39\\lib\\site-packages (from pandas!=2.1.0,>=1.4->statsmodels) (2.8.2)\n",
      "Requirement already satisfied: pytz>=2020.1 in c:\\users\\matheus.marchiore\\appdata\\local\\programs\\python\\python39\\lib\\site-packages (from pandas!=2.1.0,>=1.4->statsmodels) (2023.4)\n",
      "Requirement already satisfied: tzdata>=2022.7 in c:\\users\\matheus.marchiore\\appdata\\local\\programs\\python\\python39\\lib\\site-packages (from pandas!=2.1.0,>=1.4->statsmodels) (2023.4)\n",
      "Requirement already satisfied: six in c:\\users\\matheus.marchiore\\appdata\\local\\programs\\python\\python39\\lib\\site-packages (from patsy>=0.5.6->statsmodels) (1.16.0)\n"
     ]
    },
    {
     "name": "stderr",
     "output_type": "stream",
     "text": [
      "WARNING: Ignoring invalid distribution -ip (c:\\users\\matheus.marchiore\\appdata\\local\\programs\\python\\python39\\lib\\site-packages)\n",
      "WARNING: Ignoring invalid distribution -ip (c:\\users\\matheus.marchiore\\appdata\\local\\programs\\python\\python39\\lib\\site-packages)\n",
      "\n",
      "[notice] A new release of pip is available: 24.0 -> 24.2\n",
      "[notice] To update, run: python.exe -m pip install --upgrade pip\n"
     ]
    },
    {
     "name": "stdout",
     "output_type": "stream",
     "text": [
      "Requirement already satisfied: prince in c:\\users\\matheus.marchiore\\appdata\\local\\programs\\python\\python39\\lib\\site-packages (0.13.1)\n",
      "Requirement already satisfied: altair<6.0.0,>=4.2.2 in c:\\users\\matheus.marchiore\\appdata\\local\\programs\\python\\python39\\lib\\site-packages (from prince) (5.4.1)\n",
      "Requirement already satisfied: pandas<3.0.0,>=1.4.1 in c:\\users\\matheus.marchiore\\appdata\\local\\programs\\python\\python39\\lib\\site-packages (from prince) (2.2.2)\n",
      "Requirement already satisfied: scikit-learn<2.0.0,>=1.0.2 in c:\\users\\matheus.marchiore\\appdata\\local\\programs\\python\\python39\\lib\\site-packages (from prince) (1.5.0)\n",
      "Requirement already satisfied: jinja2 in c:\\users\\matheus.marchiore\\appdata\\local\\programs\\python\\python39\\lib\\site-packages (from altair<6.0.0,>=4.2.2->prince) (3.1.4)\n",
      "Requirement already satisfied: jsonschema>=3.0 in c:\\users\\matheus.marchiore\\appdata\\local\\programs\\python\\python39\\lib\\site-packages (from altair<6.0.0,>=4.2.2->prince) (4.23.0)\n",
      "Requirement already satisfied: narwhals>=1.5.2 in c:\\users\\matheus.marchiore\\appdata\\local\\programs\\python\\python39\\lib\\site-packages (from altair<6.0.0,>=4.2.2->prince) (1.8.1)\n",
      "Requirement already satisfied: packaging in c:\\users\\matheus.marchiore\\appdata\\local\\programs\\python\\python39\\lib\\site-packages (from altair<6.0.0,>=4.2.2->prince) (23.2)\n",
      "Requirement already satisfied: typing-extensions>=4.10.0 in c:\\users\\matheus.marchiore\\appdata\\local\\programs\\python\\python39\\lib\\site-packages (from altair<6.0.0,>=4.2.2->prince) (4.12.2)\n",
      "Requirement already satisfied: numpy>=1.22.4 in c:\\users\\matheus.marchiore\\appdata\\local\\programs\\python\\python39\\lib\\site-packages (from pandas<3.0.0,>=1.4.1->prince) (1.26.3)\n",
      "Requirement already satisfied: python-dateutil>=2.8.2 in c:\\users\\matheus.marchiore\\appdata\\local\\programs\\python\\python39\\lib\\site-packages (from pandas<3.0.0,>=1.4.1->prince) (2.8.2)\n",
      "Requirement already satisfied: pytz>=2020.1 in c:\\users\\matheus.marchiore\\appdata\\local\\programs\\python\\python39\\lib\\site-packages (from pandas<3.0.0,>=1.4.1->prince) (2023.4)\n",
      "Requirement already satisfied: tzdata>=2022.7 in c:\\users\\matheus.marchiore\\appdata\\local\\programs\\python\\python39\\lib\\site-packages (from pandas<3.0.0,>=1.4.1->prince) (2023.4)\n",
      "Requirement already satisfied: scipy>=1.6.0 in c:\\users\\matheus.marchiore\\appdata\\local\\programs\\python\\python39\\lib\\site-packages (from scikit-learn<2.0.0,>=1.0.2->prince) (1.13.0)\n",
      "Requirement already satisfied: joblib>=1.2.0 in c:\\users\\matheus.marchiore\\appdata\\local\\programs\\python\\python39\\lib\\site-packages (from scikit-learn<2.0.0,>=1.0.2->prince) (1.4.2)\n",
      "Requirement already satisfied: threadpoolctl>=3.1.0 in c:\\users\\matheus.marchiore\\appdata\\local\\programs\\python\\python39\\lib\\site-packages (from scikit-learn<2.0.0,>=1.0.2->prince) (3.5.0)\n",
      "Requirement already satisfied: attrs>=22.2.0 in c:\\users\\matheus.marchiore\\appdata\\local\\programs\\python\\python39\\lib\\site-packages (from jsonschema>=3.0->altair<6.0.0,>=4.2.2->prince) (24.2.0)\n",
      "Requirement already satisfied: jsonschema-specifications>=2023.03.6 in c:\\users\\matheus.marchiore\\appdata\\local\\programs\\python\\python39\\lib\\site-packages (from jsonschema>=3.0->altair<6.0.0,>=4.2.2->prince) (2023.12.1)\n",
      "Requirement already satisfied: referencing>=0.28.4 in c:\\users\\matheus.marchiore\\appdata\\local\\programs\\python\\python39\\lib\\site-packages (from jsonschema>=3.0->altair<6.0.0,>=4.2.2->prince) (0.35.1)\n",
      "Requirement already satisfied: rpds-py>=0.7.1 in c:\\users\\matheus.marchiore\\appdata\\local\\programs\\python\\python39\\lib\\site-packages (from jsonschema>=3.0->altair<6.0.0,>=4.2.2->prince) (0.20.0)\n",
      "Requirement already satisfied: six>=1.5 in c:\\users\\matheus.marchiore\\appdata\\local\\programs\\python\\python39\\lib\\site-packages (from python-dateutil>=2.8.2->pandas<3.0.0,>=1.4.1->prince) (1.16.0)\n",
      "Requirement already satisfied: MarkupSafe>=2.0 in c:\\users\\matheus.marchiore\\appdata\\local\\programs\\python\\python39\\lib\\site-packages (from jinja2->altair<6.0.0,>=4.2.2->prince) (2.1.5)\n"
     ]
    },
    {
     "name": "stderr",
     "output_type": "stream",
     "text": [
      "WARNING: Ignoring invalid distribution -ip (c:\\users\\matheus.marchiore\\appdata\\local\\programs\\python\\python39\\lib\\site-packages)\n",
      "WARNING: Ignoring invalid distribution -ip (c:\\users\\matheus.marchiore\\appdata\\local\\programs\\python\\python39\\lib\\site-packages)\n",
      "\n",
      "[notice] A new release of pip is available: 24.0 -> 24.2\n",
      "[notice] To update, run: python.exe -m pip install --upgrade pip\n"
     ]
    }
   ],
   "source": [
    "\n",
    "! pip install pandas\n",
    "! pip install numpy\n",
    "! pip install scipy\n",
    "! pip install plotly\n",
    "! pip install seaborn\n",
    "! pip install matplotlib\n",
    "! pip install statsmodels\n",
    "! pip install prince"
   ]
  },
  {
   "cell_type": "code",
   "execution_count": 29,
   "id": "4f21b5f4",
   "metadata": {
    "title": "Importando os pacotes necessários"
   },
   "outputs": [
    {
     "ename": "ImportError",
     "evalue": "cannot import name 'TypeIs' from 'typing_extensions' (c:\\Users\\matheus.marchiore\\AppData\\Local\\Programs\\Python\\Python39\\lib\\site-packages\\typing_extensions.py)",
     "output_type": "error",
     "traceback": [
      "\u001b[1;31m---------------------------------------------------------------------------\u001b[0m",
      "\u001b[1;31mImportError\u001b[0m                               Traceback (most recent call last)",
      "Cell \u001b[1;32mIn[29], line 7\u001b[0m\n\u001b[0;32m      5\u001b[0m \u001b[38;5;28;01mimport\u001b[39;00m \u001b[38;5;21;01mseaborn\u001b[39;00m \u001b[38;5;28;01mas\u001b[39;00m \u001b[38;5;21;01msns\u001b[39;00m\n\u001b[0;32m      6\u001b[0m \u001b[38;5;28;01mimport\u001b[39;00m \u001b[38;5;21;01mmatplotlib\u001b[39;00m\u001b[38;5;21;01m.\u001b[39;00m\u001b[38;5;21;01mpyplot\u001b[39;00m \u001b[38;5;28;01mas\u001b[39;00m \u001b[38;5;21;01mplt\u001b[39;00m\n\u001b[1;32m----> 7\u001b[0m \u001b[38;5;28;01mimport\u001b[39;00m \u001b[38;5;21;01mprince\u001b[39;00m\n\u001b[0;32m      8\u001b[0m \u001b[38;5;28;01mimport\u001b[39;00m \u001b[38;5;21;01mplotly\u001b[39;00m\u001b[38;5;21;01m.\u001b[39;00m\u001b[38;5;21;01mio\u001b[39;00m \u001b[38;5;28;01mas\u001b[39;00m \u001b[38;5;21;01mpio\u001b[39;00m\n\u001b[0;32m      9\u001b[0m pio\u001b[38;5;241m.\u001b[39mrenderers\u001b[38;5;241m.\u001b[39mdefault \u001b[38;5;241m=\u001b[39m \u001b[38;5;124m'\u001b[39m\u001b[38;5;124mbrowser\u001b[39m\u001b[38;5;124m'\u001b[39m\n",
      "File \u001b[1;32mc:\\Users\\matheus.marchiore\\AppData\\Local\\Programs\\Python\\Python39\\lib\\site-packages\\prince\\__init__.py:6\u001b[0m\n\u001b[0;32m      3\u001b[0m \u001b[38;5;28;01mimport\u001b[39;00m \u001b[38;5;21;01mimportlib\u001b[39;00m\u001b[38;5;21;01m.\u001b[39;00m\u001b[38;5;21;01mmetadata\u001b[39;00m\n\u001b[0;32m      5\u001b[0m \u001b[38;5;28;01mfrom\u001b[39;00m \u001b[38;5;21;01m.\u001b[39;00m \u001b[38;5;28;01mimport\u001b[39;00m datasets\n\u001b[1;32m----> 6\u001b[0m \u001b[38;5;28;01mfrom\u001b[39;00m \u001b[38;5;21;01m.\u001b[39;00m\u001b[38;5;21;01mca\u001b[39;00m \u001b[38;5;28;01mimport\u001b[39;00m CA\n\u001b[0;32m      7\u001b[0m \u001b[38;5;28;01mfrom\u001b[39;00m \u001b[38;5;21;01m.\u001b[39;00m\u001b[38;5;21;01mfamd\u001b[39;00m \u001b[38;5;28;01mimport\u001b[39;00m FAMD\n\u001b[0;32m      8\u001b[0m \u001b[38;5;28;01mfrom\u001b[39;00m \u001b[38;5;21;01m.\u001b[39;00m\u001b[38;5;21;01mgpa\u001b[39;00m \u001b[38;5;28;01mimport\u001b[39;00m GPA\n",
      "File \u001b[1;32mc:\\Users\\matheus.marchiore\\AppData\\Local\\Programs\\Python\\Python39\\lib\\site-packages\\prince\\ca.py:6\u001b[0m\n\u001b[0;32m      2\u001b[0m \u001b[38;5;28;01mfrom\u001b[39;00m \u001b[38;5;21;01m__future__\u001b[39;00m \u001b[38;5;28;01mimport\u001b[39;00m annotations\n\u001b[0;32m      4\u001b[0m \u001b[38;5;28;01mimport\u001b[39;00m \u001b[38;5;21;01mfunctools\u001b[39;00m\n\u001b[1;32m----> 6\u001b[0m \u001b[38;5;28;01mimport\u001b[39;00m \u001b[38;5;21;01maltair\u001b[39;00m \u001b[38;5;28;01mas\u001b[39;00m \u001b[38;5;21;01malt\u001b[39;00m\n\u001b[0;32m      7\u001b[0m \u001b[38;5;28;01mimport\u001b[39;00m \u001b[38;5;21;01mnumpy\u001b[39;00m \u001b[38;5;28;01mas\u001b[39;00m \u001b[38;5;21;01mnp\u001b[39;00m\n\u001b[0;32m      8\u001b[0m \u001b[38;5;28;01mimport\u001b[39;00m \u001b[38;5;21;01mpandas\u001b[39;00m \u001b[38;5;28;01mas\u001b[39;00m \u001b[38;5;21;01mpd\u001b[39;00m\n",
      "File \u001b[1;32mc:\\Users\\matheus.marchiore\\AppData\\Local\\Programs\\Python\\Python39\\lib\\site-packages\\altair\\__init__.py:650\u001b[0m\n\u001b[0;32m    646\u001b[0m \u001b[38;5;28;01mdef\u001b[39;00m \u001b[38;5;21m__dir__\u001b[39m():\n\u001b[0;32m    647\u001b[0m     \u001b[38;5;28;01mreturn\u001b[39;00m __all__\n\u001b[1;32m--> 650\u001b[0m \u001b[38;5;28;01mfrom\u001b[39;00m \u001b[38;5;21;01maltair\u001b[39;00m\u001b[38;5;21;01m.\u001b[39;00m\u001b[38;5;21;01mvegalite\u001b[39;00m \u001b[38;5;28;01mimport\u001b[39;00m \u001b[38;5;241m*\u001b[39m\n\u001b[0;32m    651\u001b[0m \u001b[38;5;28;01mfrom\u001b[39;00m \u001b[38;5;21;01maltair\u001b[39;00m\u001b[38;5;21;01m.\u001b[39;00m\u001b[38;5;21;01mvegalite\u001b[39;00m\u001b[38;5;21;01m.\u001b[39;00m\u001b[38;5;21;01mv5\u001b[39;00m\u001b[38;5;21;01m.\u001b[39;00m\u001b[38;5;21;01mschema\u001b[39;00m\u001b[38;5;21;01m.\u001b[39;00m\u001b[38;5;21;01mcore\u001b[39;00m \u001b[38;5;28;01mimport\u001b[39;00m Dict\n\u001b[0;32m    652\u001b[0m \u001b[38;5;28;01mfrom\u001b[39;00m \u001b[38;5;21;01maltair\u001b[39;00m\u001b[38;5;21;01m.\u001b[39;00m\u001b[38;5;21;01mjupyter\u001b[39;00m \u001b[38;5;28;01mimport\u001b[39;00m JupyterChart\n",
      "File \u001b[1;32mc:\\Users\\matheus.marchiore\\AppData\\Local\\Programs\\Python\\Python39\\lib\\site-packages\\altair\\vegalite\\__init__.py:2\u001b[0m\n\u001b[0;32m      1\u001b[0m \u001b[38;5;66;03m# ruff: noqa: F403\u001b[39;00m\n\u001b[1;32m----> 2\u001b[0m \u001b[38;5;28;01mfrom\u001b[39;00m \u001b[38;5;21;01m.\u001b[39;00m\u001b[38;5;21;01mv5\u001b[39;00m \u001b[38;5;28;01mimport\u001b[39;00m \u001b[38;5;241m*\u001b[39m\n",
      "File \u001b[1;32mc:\\Users\\matheus.marchiore\\AppData\\Local\\Programs\\Python\\Python39\\lib\\site-packages\\altair\\vegalite\\v5\\__init__.py:2\u001b[0m\n\u001b[0;32m      1\u001b[0m \u001b[38;5;66;03m# ruff: noqa: F401, F403\u001b[39;00m\n\u001b[1;32m----> 2\u001b[0m \u001b[38;5;28;01mfrom\u001b[39;00m \u001b[38;5;21;01maltair\u001b[39;00m\u001b[38;5;21;01m.\u001b[39;00m\u001b[38;5;21;01mexpr\u001b[39;00m\u001b[38;5;21;01m.\u001b[39;00m\u001b[38;5;21;01mcore\u001b[39;00m \u001b[38;5;28;01mimport\u001b[39;00m datum\n\u001b[0;32m      4\u001b[0m \u001b[38;5;28;01mfrom\u001b[39;00m \u001b[38;5;21;01m.\u001b[39;00m\u001b[38;5;21;01mapi\u001b[39;00m \u001b[38;5;28;01mimport\u001b[39;00m \u001b[38;5;241m*\u001b[39m\n\u001b[0;32m      5\u001b[0m \u001b[38;5;28;01mfrom\u001b[39;00m \u001b[38;5;21;01m.\u001b[39;00m\u001b[38;5;21;01mcompiler\u001b[39;00m \u001b[38;5;28;01mimport\u001b[39;00m vegalite_compilers\n",
      "File \u001b[1;32mc:\\Users\\matheus.marchiore\\AppData\\Local\\Programs\\Python\\Python39\\lib\\site-packages\\altair\\expr\\__init__.py:7\u001b[0m\n\u001b[0;32m      3\u001b[0m \u001b[38;5;28;01mfrom\u001b[39;00m \u001b[38;5;21;01m__future__\u001b[39;00m \u001b[38;5;28;01mimport\u001b[39;00m annotations\n\u001b[0;32m      5\u001b[0m \u001b[38;5;28;01mimport\u001b[39;00m \u001b[38;5;21;01msys\u001b[39;00m\n\u001b[1;32m----> 7\u001b[0m \u001b[38;5;28;01mfrom\u001b[39;00m \u001b[38;5;21;01maltair\u001b[39;00m\u001b[38;5;21;01m.\u001b[39;00m\u001b[38;5;21;01mexpr\u001b[39;00m\u001b[38;5;21;01m.\u001b[39;00m\u001b[38;5;21;01mcore\u001b[39;00m \u001b[38;5;28;01mimport\u001b[39;00m ConstExpression, FunctionExpression\n\u001b[0;32m      8\u001b[0m \u001b[38;5;28;01mfrom\u001b[39;00m \u001b[38;5;21;01maltair\u001b[39;00m\u001b[38;5;21;01m.\u001b[39;00m\u001b[38;5;21;01mvegalite\u001b[39;00m\u001b[38;5;21;01m.\u001b[39;00m\u001b[38;5;21;01mv5\u001b[39;00m\u001b[38;5;21;01m.\u001b[39;00m\u001b[38;5;21;01mschema\u001b[39;00m\u001b[38;5;21;01m.\u001b[39;00m\u001b[38;5;21;01mcore\u001b[39;00m \u001b[38;5;28;01mimport\u001b[39;00m ExprRef \u001b[38;5;28;01mas\u001b[39;00m _ExprRef\n\u001b[0;32m     10\u001b[0m \u001b[38;5;28;01mif\u001b[39;00m sys\u001b[38;5;241m.\u001b[39mversion_info \u001b[38;5;241m>\u001b[39m\u001b[38;5;241m=\u001b[39m (\u001b[38;5;241m3\u001b[39m, \u001b[38;5;241m12\u001b[39m):\n",
      "File \u001b[1;32mc:\\Users\\matheus.marchiore\\AppData\\Local\\Programs\\Python\\Python39\\lib\\site-packages\\altair\\expr\\core.py:6\u001b[0m\n\u001b[0;32m      3\u001b[0m \u001b[38;5;28;01mfrom\u001b[39;00m \u001b[38;5;21;01mtyping\u001b[39;00m \u001b[38;5;28;01mimport\u001b[39;00m Any, Dict, Union\n\u001b[0;32m      4\u001b[0m \u001b[38;5;28;01mfrom\u001b[39;00m \u001b[38;5;21;01mtyping_extensions\u001b[39;00m \u001b[38;5;28;01mimport\u001b[39;00m TypeAlias\n\u001b[1;32m----> 6\u001b[0m \u001b[38;5;28;01mfrom\u001b[39;00m \u001b[38;5;21;01maltair\u001b[39;00m\u001b[38;5;21;01m.\u001b[39;00m\u001b[38;5;21;01mutils\u001b[39;00m \u001b[38;5;28;01mimport\u001b[39;00m SchemaBase\n\u001b[0;32m      9\u001b[0m \u001b[38;5;28;01mclass\u001b[39;00m \u001b[38;5;21;01mDatumType\u001b[39;00m:\n\u001b[0;32m     10\u001b[0m \u001b[38;5;250m    \u001b[39m\u001b[38;5;124;03m\"\"\"An object to assist in building Vega-Lite Expressions.\"\"\"\u001b[39;00m\n",
      "File \u001b[1;32mc:\\Users\\matheus.marchiore\\AppData\\Local\\Programs\\Python\\Python39\\lib\\site-packages\\altair\\utils\\__init__.py:14\u001b[0m\n\u001b[0;32m     12\u001b[0m \u001b[38;5;28;01mfrom\u001b[39;00m \u001b[38;5;21;01m.\u001b[39;00m\u001b[38;5;21;01mdeprecation\u001b[39;00m \u001b[38;5;28;01mimport\u001b[39;00m AltairDeprecationWarning, deprecated, deprecated_warn\n\u001b[0;32m     13\u001b[0m \u001b[38;5;28;01mfrom\u001b[39;00m \u001b[38;5;21;01m.\u001b[39;00m\u001b[38;5;21;01mhtml\u001b[39;00m \u001b[38;5;28;01mimport\u001b[39;00m spec_to_html\n\u001b[1;32m---> 14\u001b[0m \u001b[38;5;28;01mfrom\u001b[39;00m \u001b[38;5;21;01m.\u001b[39;00m\u001b[38;5;21;01mplugin_registry\u001b[39;00m \u001b[38;5;28;01mimport\u001b[39;00m PluginRegistry\n\u001b[0;32m     15\u001b[0m \u001b[38;5;28;01mfrom\u001b[39;00m \u001b[38;5;21;01m.\u001b[39;00m\u001b[38;5;21;01mschemapi\u001b[39;00m \u001b[38;5;28;01mimport\u001b[39;00m Optional, SchemaBase, Undefined, is_undefined\n\u001b[0;32m     17\u001b[0m __all__ \u001b[38;5;241m=\u001b[39m (\n\u001b[0;32m     18\u001b[0m     \u001b[38;5;124m\"\u001b[39m\u001b[38;5;124mSHORTHAND_KEYS\u001b[39m\u001b[38;5;124m\"\u001b[39m,\n\u001b[0;32m     19\u001b[0m     \u001b[38;5;124m\"\u001b[39m\u001b[38;5;124mAltairDeprecationWarning\u001b[39m\u001b[38;5;124m\"\u001b[39m,\n\u001b[1;32m   (...)\u001b[0m\n\u001b[0;32m     35\u001b[0m     \u001b[38;5;124m\"\u001b[39m\u001b[38;5;124muse_signature\u001b[39m\u001b[38;5;124m\"\u001b[39m,\n\u001b[0;32m     36\u001b[0m )\n",
      "File \u001b[1;32mc:\\Users\\matheus.marchiore\\AppData\\Local\\Programs\\Python\\Python39\\lib\\site-packages\\altair\\utils\\plugin_registry.py:6\u001b[0m\n\u001b[0;32m      4\u001b[0m \u001b[38;5;28;01mfrom\u001b[39;00m \u001b[38;5;21;01mimportlib\u001b[39;00m\u001b[38;5;21;01m.\u001b[39;00m\u001b[38;5;21;01mmetadata\u001b[39;00m \u001b[38;5;28;01mimport\u001b[39;00m entry_points\n\u001b[0;32m      5\u001b[0m \u001b[38;5;28;01mfrom\u001b[39;00m \u001b[38;5;21;01mtyping\u001b[39;00m \u001b[38;5;28;01mimport\u001b[39;00m TYPE_CHECKING, Any, Callable, Generic, cast\n\u001b[1;32m----> 6\u001b[0m \u001b[38;5;28;01mfrom\u001b[39;00m \u001b[38;5;21;01mtyping_extensions\u001b[39;00m \u001b[38;5;28;01mimport\u001b[39;00m TypeAliasType, TypeIs, TypeVar\n\u001b[0;32m      8\u001b[0m \u001b[38;5;28;01mfrom\u001b[39;00m \u001b[38;5;21;01maltair\u001b[39;00m\u001b[38;5;21;01m.\u001b[39;00m\u001b[38;5;21;01mutils\u001b[39;00m\u001b[38;5;21;01m.\u001b[39;00m\u001b[38;5;21;01mdeprecation\u001b[39;00m \u001b[38;5;28;01mimport\u001b[39;00m deprecated_warn\n\u001b[0;32m     10\u001b[0m \u001b[38;5;28;01mif\u001b[39;00m TYPE_CHECKING:\n",
      "\u001b[1;31mImportError\u001b[0m: cannot import name 'TypeIs' from 'typing_extensions' (c:\\Users\\matheus.marchiore\\AppData\\Local\\Programs\\Python\\Python39\\lib\\site-packages\\typing_extensions.py)"
     ]
    }
   ],
   "source": [
    "import pandas as pd\n",
    "import numpy as np\n",
    "from scipy.stats import chi2_contingency\n",
    "import statsmodels.api as sm\n",
    "import seaborn as sns\n",
    "import matplotlib.pyplot as plt\n",
    "import prince\n",
    "import plotly.io as pio\n",
    "pio.renderers.default = 'browser'\n",
    "import plotly.graph_objects as go"
   ]
  },
  {
   "cell_type": "code",
   "execution_count": null,
   "id": "7f9819b5",
   "metadata": {},
   "outputs": [],
   "source": [
    "pio.renderers.default = 'browser'"
   ]
  },
  {
   "cell_type": "code",
   "execution_count": 25,
   "id": "c1597376",
   "metadata": {},
   "outputs": [
    {
     "ename": "NameError",
     "evalue": "name 'python' is not defined",
     "output_type": "error",
     "traceback": [
      "\u001b[1;31m---------------------------------------------------------------------------\u001b[0m",
      "\u001b[1;31mNameError\u001b[0m                                 Traceback (most recent call last)",
      "Cell \u001b[1;32mIn[25], line 1\u001b[0m\n\u001b[1;32m----> 1\u001b[0m \u001b[43mpython\u001b[49m \u001b[38;5;241m-\u001b[39m\u001b[38;5;241m-\u001b[39mversion\n",
      "\u001b[1;31mNameError\u001b[0m: name 'python' is not defined"
     ]
    }
   ],
   "source": [
    "python --version\n"
   ]
  },
  {
   "cell_type": "code",
   "execution_count": null,
   "id": "96c4a4bd",
   "metadata": {
    "title": "Análise de Correspondência Simples (ANACOR)"
   },
   "outputs": [],
   "source": [
    "\n",
    "# Importando o banco de dados\n",
    "\n",
    "perfil = pd.read_excel(\"perfil_aplicacao.xlsx\")\n",
    "# Fonte: Fávero e Belfiore (2024, Capítulo 11)"
   ]
  },
  {
   "cell_type": "code",
   "execution_count": null,
   "id": "f24dc558",
   "metadata": {
    "title": "Informações descritivas sobre as variáveis"
   },
   "outputs": [],
   "source": [
    "\n",
    "print(perfil['Perfil'].value_counts())\n",
    "print(perfil['Tipo de Aplicação'].value_counts())"
   ]
  },
  {
   "cell_type": "code",
   "execution_count": null,
   "id": "f77b29c6",
   "metadata": {
    "title": "Criando a tabela de contingência"
   },
   "outputs": [],
   "source": [
    "\n",
    "tabela = pd.crosstab(perfil[\"Perfil\"], perfil[\"Tipo de Aplicação\"])\n",
    "\n",
    "print(tabela)\n",
    "\n",
    "# Nota: sempre manter o nome deste objeto como \"tabela\" para uso posterior!"
   ]
  },
  {
   "cell_type": "code",
   "execution_count": null,
   "id": "35d9b3d8",
   "metadata": {
    "title": "Analisando a significância estatística da associação (teste qui²)"
   },
   "outputs": [],
   "source": [
    "\n",
    "teste_qui2 = chi2_contingency(tabela)\n",
    "\n",
    "print(f\"estatística qui²: {round(teste_qui2[0], 2)}\")\n",
    "print(f\"p-valor da estatística: {round(teste_qui2[1], 4)}\")\n",
    "print(f\"graus de liberdade: {teste_qui2[2]}\")"
   ]
  },
  {
   "cell_type": "code",
   "execution_count": null,
   "id": "8b217737",
   "metadata": {
    "title": "Análise dos resíduos provenientes da tabela de contingência"
   },
   "outputs": [],
   "source": [
    "\n",
    "# Parametrizando a função\n",
    "\n",
    "tab_cont = sm.stats.Table(tabela)\n",
    "\n",
    "# Tabela de frequências absolutas esperadas\n",
    "\n",
    "print(tab_cont.fittedvalues)\n",
    "\n",
    "# Tabela de resíduos: diferença entre freq. absolutas observadas e esperadas\n",
    "\n",
    "print(tabela - tab_cont.fittedvalues)\n",
    "\n",
    "# Valores qui-quadrado por célula\n",
    "\n",
    "print(tab_cont.chi2_contribs)\n",
    "\n",
    "# Resíduos padronizados\n",
    "\n",
    "print(tab_cont.resid_pearson)\n",
    "\n",
    "# Resíduos padronizados ajustados\n",
    "\n",
    "print(tab_cont.standardized_resids)"
   ]
  },
  {
   "cell_type": "code",
   "execution_count": null,
   "id": "2c965e68",
   "metadata": {
    "title": "Mapa de calor dos resíduos padronizados ajustados"
   },
   "outputs": [],
   "source": [
    "\n",
    "fig = go.Figure()\n",
    "\n",
    "maxz = np.max(tab_cont.standardized_resids)+0.1\n",
    "minz = np.min(tab_cont.standardized_resids)-0.1\n",
    "\n",
    "colorscale = ['skyblue' if i>1.96 else '#FAF9F6' for i in np.arange(minz,maxz,0.01)]\n",
    "\n",
    "fig.add_trace(\n",
    "    go.Heatmap(\n",
    "        x = tab_cont.standardized_resids.columns,\n",
    "        y = tab_cont.standardized_resids.index,\n",
    "        z = np.array(tab_cont.standardized_resids),\n",
    "        text=tab_cont.standardized_resids.values,\n",
    "        texttemplate='%{text:.2f}',\n",
    "        showscale=False,\n",
    "        colorscale=colorscale))\n",
    "\n",
    "fig.update_layout(\n",
    "    title='Resíduos Padronizados Ajustados',\n",
    "    height = 600,\n",
    "    width = 600)\n",
    "\n",
    "fig.show()"
   ]
  },
  {
   "cell_type": "code",
   "execution_count": null,
   "id": "703250c2",
   "metadata": {
    "title": "Elaborando a ANACOR"
   },
   "outputs": [],
   "source": [
    "\n",
    "# Na função, o input é a tabela de contingência criada antes!\n",
    "\n",
    "ca = prince.CA().fit(tabela)"
   ]
  },
  {
   "cell_type": "code",
   "execution_count": null,
   "id": "f7d48e11",
   "metadata": {
    "title": "Obtendo os eigenvalues"
   },
   "outputs": [],
   "source": [
    "\n",
    "tabela_autovalores = ca.eigenvalues_summary\n",
    "\n",
    "print(tabela_autovalores)\n",
    "\n",
    "# São gerados 'm' autovalores: m = mín(I-1,J-1)"
   ]
  },
  {
   "cell_type": "code",
   "execution_count": null,
   "id": "659173e6",
   "metadata": {
    "title": "Obtendo a inércia principal total"
   },
   "outputs": [],
   "source": [
    "\n",
    "# É a soma dos eigenvalues (também é a divisão: estat. qui² / N)\n",
    "# Quanto maior a inércia principal total, maior é a associação entre categorias\n",
    "\n",
    "print(ca.total_inertia_)"
   ]
  },
  {
   "cell_type": "code",
   "execution_count": null,
   "id": "03d0678b",
   "metadata": {
    "title": "Massas das categorias"
   },
   "outputs": [],
   "source": [
    "\n",
    "# Massas da variável em linha\n",
    "print(ca.row_masses_)\n",
    "\n",
    "# Massas da variável em coluna\n",
    "print(ca.col_masses_)"
   ]
  },
  {
   "cell_type": "code",
   "execution_count": null,
   "id": "d5e6160e",
   "metadata": {
    "title": "Autovetores"
   },
   "outputs": [],
   "source": [
    "\n",
    "# Autovetor linha\n",
    "print(ca.svd_.U)\n",
    "\n",
    "# Autovetor coluna\n",
    "print(ca.svd_.V.T)"
   ]
  },
  {
   "cell_type": "code",
   "execution_count": null,
   "id": "c9855465",
   "metadata": {
    "title": "Obtendo as coordenadas do mapa perceptual"
   },
   "outputs": [],
   "source": [
    "\n",
    "# Coordenadas da variável em linha\n",
    "print(ca.row_coordinates(tabela))\n",
    "\n",
    "# Coordenadas da variável em coluna\n",
    "print(ca.column_coordinates(tabela))"
   ]
  },
  {
   "cell_type": "code",
   "execution_count": null,
   "id": "e2792baf",
   "metadata": {
    "title": "Plotando o mapa percentual da Anacor"
   },
   "outputs": [],
   "source": [
    "\n",
    "chart_df_row = pd.DataFrame({'var_row': tabela.index,\n",
    "                             'x_row':ca.row_coordinates(tabela)[0].values,\n",
    "                             'y_row': ca.row_coordinates(tabela)[1].values})\n",
    "\n",
    "chart_df_col = pd.DataFrame({'var_col': tabela.columns,\n",
    "                             'x_col':ca.column_coordinates(tabela)[0].values,\n",
    "                             'y_col': ca.column_coordinates(tabela)[1].values})\n",
    "\n",
    "def label_point(x, y, val, ax):\n",
    "    a = pd.concat({'x': x, 'y': y, 'val': val}, axis=1)\n",
    "    for i, point in a.iterrows():\n",
    "        ax.text(point['x'] + 0.03, point['y'] - 0.02, point['val'], fontsize=6)\n",
    "\n",
    "label_point(x = chart_df_col['x_col'],\n",
    "            y = chart_df_col['y_col'],\n",
    "            val = chart_df_col['var_col'],\n",
    "            ax = plt.gca())\n",
    "\n",
    "label_point(x = chart_df_row['x_row'],\n",
    "            y = chart_df_row['y_row'],\n",
    "            val = chart_df_row['var_row'],\n",
    "            ax = plt.gca()) \n",
    "\n",
    "sns.scatterplot(data=chart_df_row, x='x_row', y='y_row', s=20)\n",
    "sns.scatterplot(data=chart_df_col, x='x_col', y='y_col', s=20)\n",
    "sns.despine(top=True, right=True, left=False, bottom=False)\n",
    "plt.axhline(y=0, color='lightgrey', ls='--')\n",
    "plt.axvline(x=0, color='lightgrey', ls='--')\n",
    "plt.tick_params(size=2, labelsize=6)\n",
    "plt.title(\"Mapa Perceptual - Anacor\", fontsize=12)\n",
    "plt.xlabel(f\"Dim. 1: {tabela_autovalores.iloc[0,1]} da inércia\", fontsize=8)\n",
    "plt.ylabel(f\"Dim. 2: {tabela_autovalores.iloc[1,1]} da inércia\", fontsize=8)\n",
    "plt.show()"
   ]
  },
  {
   "cell_type": "code",
   "execution_count": null,
   "id": "f5a609b5",
   "metadata": {
    "title": "Obtendo as coordenadas das observações"
   },
   "outputs": [],
   "source": [
    "\n",
    "# Identificando as variáveis em linha e em coluna\n",
    "coord_obs = perfil.rename(columns={'Perfil':'var_row',\n",
    "                                   'Tipo de Aplicação':'var_col'})\n",
    "\n",
    "# Unindo as coordenadas das categorias ao DataFrame\n",
    "coord_obs = pd.merge(coord_obs, chart_df_row, how='left', on='var_row')\n",
    "coord_obs = pd.merge(coord_obs, chart_df_col, how='left', on='var_col')\n",
    "\n",
    "# Calculando as coordenadas médias das observações (média de suas categorias)\n",
    "coord_obs['x_obs'] = coord_obs[['x_row','x_col']].mean(axis=1)\n",
    "coord_obs['y_obs'] = coord_obs[['y_row','y_col']].mean(axis=1)"
   ]
  },
  {
   "cell_type": "code",
   "execution_count": null,
   "id": "12ccd114",
   "metadata": {
    "title": "Plotando o mapa percentual da Anacor"
   },
   "outputs": [],
   "source": [
    "\n",
    "chart_df_row = pd.DataFrame({'var_row': tabela.index,\n",
    "                             'x_row':ca.row_coordinates(tabela)[0].values,\n",
    "                             'y_row': ca.row_coordinates(tabela)[1].values})\n",
    "\n",
    "chart_df_col = pd.DataFrame({'var_col': tabela.columns,\n",
    "                             'x_col':ca.column_coordinates(tabela)[0].values,\n",
    "                             'y_col': ca.column_coordinates(tabela)[1].values})\n",
    "\n",
    "def label_point(x, y, val, ax):\n",
    "    a = pd.concat({'x': x, 'y': y, 'val': val}, axis=1)\n",
    "    for i, point in a.iterrows():\n",
    "        ax.text(point['x'] + 0.03, point['y'] - 0.02, point['val'], fontsize=6)\n",
    "\n",
    "label_point(x = chart_df_col['x_col'],\n",
    "            y = chart_df_col['y_col'],\n",
    "            val = chart_df_col['var_col'],\n",
    "            ax = plt.gca())\n",
    "\n",
    "label_point(x = chart_df_row['x_row'],\n",
    "            y = chart_df_row['y_row'],\n",
    "            val = chart_df_row['var_row'],\n",
    "            ax = plt.gca()) \n",
    "\n",
    "sns.scatterplot(data=chart_df_row, x='x_row', y='y_row', s=20)\n",
    "sns.scatterplot(data=chart_df_col, x='x_col', y='y_col', s=20)\n",
    "sns.scatterplot(data=coord_obs, x='x_obs', y='y_obs', s=10, color='red')\n",
    "sns.despine(top=True, right=True, left=False, bottom=False)\n",
    "plt.axhline(y=0, color='lightgrey', ls='--')\n",
    "plt.axvline(x=0, color='lightgrey', ls='--')\n",
    "plt.tick_params(size=2, labelsize=6)\n",
    "plt.title(\"Mapa Perceptual - Anacor\", fontsize=12)\n",
    "plt.xlabel(f\"Dim. 1: {tabela_autovalores.iloc[0,1]} da inércia\", fontsize=8)\n",
    "plt.ylabel(f\"Dim. 2: {tabela_autovalores.iloc[1,1]} da inércia\", fontsize=8)\n",
    "plt.show()"
   ]
  },
  {
   "cell_type": "code",
   "execution_count": null,
   "id": "4be400e4",
   "metadata": {
    "title": "FIM!"
   },
   "outputs": [],
   "source": []
  }
 ],
 "metadata": {
  "jupytext": {
   "cell_metadata_filter": "title,-all",
   "encoding": "# -*- coding: utf-8 -*-",
   "main_language": "python",
   "notebook_metadata_filter": "-all"
  },
  "kernelspec": {
   "display_name": "Python 3",
   "language": "python",
   "name": "python3"
  },
  "language_info": {
   "codemirror_mode": {
    "name": "ipython",
    "version": 3
   },
   "file_extension": ".py",
   "mimetype": "text/x-python",
   "name": "python",
   "nbconvert_exporter": "python",
   "pygments_lexer": "ipython3",
   "version": "3.9.2rc1"
  }
 },
 "nbformat": 4,
 "nbformat_minor": 5
}
