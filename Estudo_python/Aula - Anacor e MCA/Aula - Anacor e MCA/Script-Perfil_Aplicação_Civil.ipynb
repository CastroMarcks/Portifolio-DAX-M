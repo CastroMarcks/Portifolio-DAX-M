{
 "cells": [
  {
   "cell_type": "code",
   "execution_count": null,
   "id": "2fa036bd",
   "metadata": {},
   "outputs": [],
   "source": [
    "\n",
    "# Análise de Correspondência Simples e Múltipla\n",
    "# MBA em Data Science e Analytics USP ESALQ\n",
    "\n",
    "# Prof. Dr. Wilson Tarantin Junior"
   ]
  },
  {
   "cell_type": "code",
   "execution_count": null,
   "id": "1e9ad560",
   "metadata": {
    "title": "Instalando os pacotes"
   },
   "outputs": [],
   "source": [
    "\n",
    "! pip install pandas\n",
    "! pip install numpy\n",
    "! pip install scipy\n",
    "! pip install plotly\n",
    "! pip install seaborn\n",
    "! pip install matplotlib\n",
    "! pip install statsmodels\n",
    "! pip install prince"
   ]
  },
  {
   "cell_type": "code",
   "execution_count": null,
   "id": "cff70c3d",
   "metadata": {
    "title": "Importando os pacotes necessários"
   },
   "outputs": [],
   "source": [
    "\n",
    "import pandas as pd\n",
    "import numpy as np\n",
    "from scipy.stats import chi2_contingency\n",
    "import statsmodels.api as sm\n",
    "import seaborn as sns\n",
    "import matplotlib.pyplot as plt\n",
    "import prince\n",
    "import plotly.io as pio\n",
    "pio.renderers.default = 'browser'\n",
    "import plotly.graph_objects as go"
   ]
  },
  {
   "cell_type": "code",
   "execution_count": null,
   "id": "5becdd91",
   "metadata": {
    "title": "Análise de Correspondência Múltipla (MCA)"
   },
   "outputs": [],
   "source": [
    "\n",
    "# Importando o banco de dados\n",
    "\n",
    "perfil_mca = pd.read_excel(\"perfil_aplicacao_civil.xlsx\")\n",
    "# Fonte: Fávero e Belfiore (2024, Capítulo 11)"
   ]
  },
  {
   "cell_type": "code",
   "execution_count": null,
   "id": "0de9f137",
   "metadata": {
    "title": "Selecionando apenas as variáveis que farão parte da análise"
   },
   "outputs": [],
   "source": [
    "\n",
    "dados_mca = perfil_mca.drop(columns=['estudante'])"
   ]
  },
  {
   "cell_type": "code",
   "execution_count": null,
   "id": "d618338d",
   "metadata": {
    "title": "Informações descritivas sobre as variáveis"
   },
   "outputs": [],
   "source": [
    "\n",
    "print(dados_mca['perfil'].value_counts())\n",
    "print(dados_mca['aplicacao'].value_counts())\n",
    "print(dados_mca['estado.civil'].value_counts())"
   ]
  },
  {
   "cell_type": "code",
   "execution_count": null,
   "id": "f908b975",
   "metadata": {
    "title": "Analisando as tabelas de contingência"
   },
   "outputs": [],
   "source": [
    "\n",
    "tabela_mca_1 = pd.crosstab(dados_mca[\"perfil\"], dados_mca[\"aplicacao\"])\n",
    "tabela_mca_2 = pd.crosstab(dados_mca[\"perfil\"], dados_mca[\"estado.civil\"])\n",
    "tabela_mca_3 = pd.crosstab(dados_mca[\"aplicacao\"], dados_mca[\"estado.civil\"])\n",
    "\n",
    "print(tabela_mca_1)\n",
    "print(tabela_mca_2)\n",
    "print(tabela_mca_3)"
   ]
  },
  {
   "cell_type": "code",
   "execution_count": null,
   "id": "daa74aaa",
   "metadata": {
    "title": "Analisando a significância estatística das associações (teste qui²)"
   },
   "outputs": [],
   "source": [
    "\n",
    "tab_1 = chi2_contingency(tabela_mca_1)\n",
    "\n",
    "print(\"Associação Perfil x Aplicação\")\n",
    "print(f\"estatística qui²: {round(tab_1[0], 2)}\")\n",
    "print(f\"p-valor da estatística: {round(tab_1[1], 4)}\")\n",
    "print(f\"graus de liberdade: {tab_1[2]}\")\n",
    "\n",
    "tab_2 = chi2_contingency(tabela_mca_2)\n",
    "\n",
    "print(\"Associação Perfil x Estado Civil\")\n",
    "print(f\"estatística qui²: {round(tab_2[0], 2)}\")\n",
    "print(f\"p-valor da estatística: {round(tab_2[1], 4)}\")\n",
    "print(f\"graus de liberdade: {tab_2[2]}\")\n",
    "\n",
    "tab_3 = chi2_contingency(tabela_mca_3)\n",
    "\n",
    "print(\"Associação Aplicação x Estado Civil\")\n",
    "print(f\"estatística qui²: {round(tab_3[0], 2)}\")\n",
    "print(f\"p-valor da estatística: {round(tab_3[1], 4)}\")\n",
    "print(f\"graus de liberdade: {tab_3[2]}\")"
   ]
  },
  {
   "cell_type": "code",
   "execution_count": null,
   "id": "cf2424c7",
   "metadata": {
    "title": "Elaborando a MCA"
   },
   "outputs": [],
   "source": [
    "\n",
    "mca = prince.MCA(n_components=2).fit(dados_mca)\n",
    "\n",
    "# Vamos parametrizar a MCA para duas dimensões (eixos X e Y no mapa perceptual)\n",
    "# Note que o input é o próprio banco de dados com as variáveis categóricas"
   ]
  },
  {
   "cell_type": "code",
   "execution_count": null,
   "id": "188d9c81",
   "metadata": {
    "title": "Quantidade total de dimensões"
   },
   "outputs": [],
   "source": [
    "\n",
    "# Quantidade de dimensões = qtde total de categorias - qtde de variáveis\n",
    "\n",
    "# Quantidade total de categorias\n",
    "mca.J_\n",
    "\n",
    "# Quantidade de variáveis na análise\n",
    "mca.K_\n",
    "\n",
    "# Quantidade de dimensões\n",
    "quant_dim = mca.J_ - mca.K_\n",
    "\n",
    "# Resumo das informações\n",
    "print(f\"quantidade total de categorias: {mca.J_}\")\n",
    "print(f\"quantidade de variáveis: {mca.K_}\")\n",
    "print(f\"quantidade de dimensões: {quant_dim}\")"
   ]
  },
  {
   "cell_type": "code",
   "execution_count": null,
   "id": "5c4d4c7b",
   "metadata": {
    "title": "Visualizando as matrizes: binária e Burt"
   },
   "outputs": [],
   "source": [
    "\n",
    "# Nota: esta célula não é requerida para a função, tem fins didáticos!\n",
    "\n",
    "binaria = pd.get_dummies(dados_mca, columns=dados_mca.columns, dtype=float)\n",
    "\n",
    "burt = np.matmul(np.transpose(binaria), binaria)"
   ]
  },
  {
   "cell_type": "code",
   "execution_count": null,
   "id": "bf19ccc6",
   "metadata": {
    "title": "Obtendo os eigenvalues"
   },
   "outputs": [],
   "source": [
    "\n",
    "tabela_autovalores = mca.eigenvalues_summary\n",
    "\n",
    "print(tabela_autovalores)"
   ]
  },
  {
   "cell_type": "code",
   "execution_count": null,
   "id": "4b50e8ca",
   "metadata": {
    "title": "Inércia principal total"
   },
   "outputs": [],
   "source": [
    "\n",
    "# Soma de todos os autovalores (todas as dimensões existentes)\n",
    "\n",
    "print(mca.total_inertia_)"
   ]
  },
  {
   "cell_type": "code",
   "execution_count": null,
   "id": "b72f88d4",
   "metadata": {
    "title": "Obtendo as coordenadas principais das categorias das variáveis"
   },
   "outputs": [],
   "source": [
    "\n",
    "coord_burt = mca.column_coordinates(dados_mca)\n",
    "\n",
    "print(coord_burt)"
   ]
  },
  {
   "cell_type": "code",
   "execution_count": null,
   "id": "3b8651b5",
   "metadata": {
    "title": "Obtendo as coordenadas-padrão das categorias das variáveis"
   },
   "outputs": [],
   "source": [
    "\n",
    "coord_padrao = mca.column_coordinates(dados_mca)/np.sqrt(mca.eigenvalues_)\n",
    "\n",
    "print(coord_padrao)"
   ]
  },
  {
   "cell_type": "code",
   "execution_count": null,
   "id": "b4bf504c",
   "metadata": {
    "title": "Obtendo as coordenadas das observações do banco de dados"
   },
   "outputs": [],
   "source": [
    "\n",
    "# Na função, as coordenadas das observações vêm das coordenadas-padrão\n",
    "\n",
    "coord_obs = mca.row_coordinates(dados_mca)\n",
    "\n",
    "print(coord_obs)"
   ]
  },
  {
   "cell_type": "code",
   "execution_count": null,
   "id": "10f1332a",
   "metadata": {
    "title": "Plotando o mapa perceptual (coordenadas-padrão)"
   },
   "outputs": [],
   "source": [
    "\n",
    "chart = coord_padrao.reset_index()\n",
    "\n",
    "var_chart = pd.Series(chart['index'].str.split('_', expand=True).iloc[:,0])\n",
    "# Nota: para a função acima ser executada adequadamente, não deixar underline no nome original da variável no dataset!\n",
    "\n",
    "chart_df_mca = pd.DataFrame({'categoria': chart['index'],\n",
    "                             'obs_x': chart[0],\n",
    "                             'obs_y': chart[1],\n",
    "                             'variavel': var_chart})\n",
    "\n",
    "def label_point(x, y, val, ax):\n",
    "    a = pd.concat({'x': x, 'y': y, 'val': val}, axis=1)\n",
    "    for i, point in a.iterrows():\n",
    "        ax.text(point['x'] + 0.03, point['y'] - 0.02, point['val'], fontsize=5)\n",
    "\n",
    "label_point(x = chart_df_mca['obs_x'],\n",
    "            y = chart_df_mca['obs_y'],\n",
    "            val = chart_df_mca['categoria'],\n",
    "            ax = plt.gca())\n",
    "\n",
    "sns.scatterplot(data=chart_df_mca, x='obs_x', y='obs_y', hue='variavel', s=20)\n",
    "sns.despine(top=True, right=True, left=False, bottom=False)\n",
    "plt.axhline(y=0, color='lightgrey', ls='--', linewidth=0.8)\n",
    "plt.axvline(x=0, color='lightgrey', ls='--', linewidth=0.8)\n",
    "plt.tick_params(size=2, labelsize=6)\n",
    "plt.legend(bbox_to_anchor=(0,0), fancybox=True, shadow=True, fontsize = '6')\n",
    "plt.title(\"Mapa Perceptual - MCA\", fontsize=12)\n",
    "plt.xlabel(f\"Dim. 1: {tabela_autovalores.iloc[0,1]} da inércia\", fontsize=8)\n",
    "plt.ylabel(f\"Dim. 2: {tabela_autovalores.iloc[1,1]} da inércia\", fontsize=8)\n",
    "plt.show()"
   ]
  },
  {
   "cell_type": "code",
   "execution_count": null,
   "id": "0c96b2e4",
   "metadata": {
    "title": "FIM!"
   },
   "outputs": [],
   "source": []
  }
 ],
 "metadata": {
  "jupytext": {
   "cell_metadata_filter": "title,-all",
   "encoding": "# -*- coding: utf-8 -*-",
   "main_language": "python",
   "notebook_metadata_filter": "-all"
  }
 },
 "nbformat": 4,
 "nbformat_minor": 5
}
