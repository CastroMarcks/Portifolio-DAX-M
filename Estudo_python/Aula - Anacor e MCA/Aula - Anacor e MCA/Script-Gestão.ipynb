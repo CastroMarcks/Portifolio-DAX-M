{
 "cells": [
  {
   "cell_type": "code",
   "execution_count": null,
   "id": "2fe0f6df",
   "metadata": {},
   "outputs": [],
   "source": [
    "\n",
    "# Análise de Correspondência Simples e Múltipla\n",
    "# MBA em Data Science e Analytics USP ESALQ\n",
    "\n",
    "# Prof. Dr. Wilson Tarantin Junior"
   ]
  },
  {
   "cell_type": "code",
   "execution_count": null,
   "id": "1f35ec19",
   "metadata": {
    "title": "Instalando os pacotes"
   },
   "outputs": [],
   "source": [
    "\n",
    "! pip install pandas\n",
    "! pip install numpy\n",
    "! pip install scipy\n",
    "! pip install plotly\n",
    "! pip install seaborn\n",
    "! pip install matplotlib\n",
    "! pip install statsmodels\n",
    "! pip install prince"
   ]
  },
  {
   "cell_type": "code",
   "execution_count": null,
   "id": "df04dd93",
   "metadata": {
    "title": "Importando os pacotes necessários"
   },
   "outputs": [],
   "source": [
    "\n",
    "import pandas as pd\n",
    "import numpy as np\n",
    "from scipy.stats import chi2_contingency\n",
    "import statsmodels.api as sm\n",
    "import seaborn as sns\n",
    "import matplotlib.pyplot as plt\n",
    "import prince\n",
    "import plotly.io as pio\n",
    "pio.renderers.default = 'browser'\n",
    "import plotly.graph_objects as go"
   ]
  },
  {
   "cell_type": "code",
   "execution_count": null,
   "id": "f5542ec4",
   "metadata": {
    "title": "Análise de Correspondência Simples (ANACOR)"
   },
   "outputs": [],
   "source": [
    "\n",
    "# Importando o banco de dados\n",
    "\n",
    "gestao = pd.read_excel(\"gestao_municipal.xlsx\")\n",
    "# Fonte: Fávero e Belfiore (2024, Capítulo 11)\n",
    "\n",
    "## Ao longo de 3 anos, foi aplicado questionário com a seguinte afirmação:\n",
    "    ## Estou satisfeito com a gestão do atual prefeito!\n",
    "\n",
    "## Respostas em escala likert de 5 pontos"
   ]
  },
  {
   "cell_type": "code",
   "execution_count": null,
   "id": "e129c4df",
   "metadata": {
    "title": "Informações descritivas sobre as variáveis"
   },
   "outputs": [],
   "source": [
    "\n",
    "print(gestao['avaliacao'].value_counts())\n",
    "print(gestao['ano'].value_counts())"
   ]
  },
  {
   "cell_type": "code",
   "execution_count": null,
   "id": "22219d8b",
   "metadata": {
    "title": "Criando a tabela de contingência"
   },
   "outputs": [],
   "source": [
    "\n",
    "tabela = pd.crosstab(gestao[\"avaliacao\"], gestao[\"ano\"])\n",
    "\n",
    "print(tabela)\n",
    "\n",
    "# Nota: sempre manter o nome deste objeto como \"tabela\" para uso posterior!"
   ]
  },
  {
   "cell_type": "code",
   "execution_count": null,
   "id": "d9777ba7",
   "metadata": {
    "title": "Analisando a significância estatística da associação (teste qui²)"
   },
   "outputs": [],
   "source": [
    "\n",
    "teste_qui2 = chi2_contingency(tabela)\n",
    "\n",
    "print(f\"estatística qui²: {round(teste_qui2[0], 2)}\")\n",
    "print(f\"p-valor da estatística: {round(teste_qui2[1], 4)}\")\n",
    "print(f\"graus de liberdade: {teste_qui2[2]}\")"
   ]
  },
  {
   "cell_type": "code",
   "execution_count": null,
   "id": "fb4557c1",
   "metadata": {
    "title": "Mapa de calor dos resíduos padronizados ajustados"
   },
   "outputs": [],
   "source": [
    "\n",
    "# Tabela de contingência\n",
    "\n",
    "tab_cont = sm.stats.Table(tabela)\n",
    "\n",
    "# Gráfico dos resíduos padronizados ajustados\n",
    "\n",
    "fig = go.Figure()\n",
    "\n",
    "maxz = np.max(tab_cont.standardized_resids)+0.1\n",
    "minz = np.min(tab_cont.standardized_resids)-0.1\n",
    "\n",
    "colorscale = ['lightgreen' if i>1.96 else '#FAF9F6' for i in np.arange(minz,maxz,0.01)]\n",
    "\n",
    "fig.add_trace(\n",
    "    go.Heatmap(\n",
    "        x = tab_cont.standardized_resids.columns,\n",
    "        y = tab_cont.standardized_resids.index,\n",
    "        z = np.array(tab_cont.standardized_resids),\n",
    "        text=tab_cont.standardized_resids.values,\n",
    "        texttemplate='%{text:.2f}',\n",
    "        showscale=False,\n",
    "        colorscale=colorscale))\n",
    "\n",
    "fig.update_layout(\n",
    "    title='Resíduos Padronizados Ajustados',\n",
    "    height = 600,\n",
    "    width = 600)\n",
    "\n",
    "fig.show()"
   ]
  },
  {
   "cell_type": "code",
   "execution_count": null,
   "id": "65024395",
   "metadata": {
    "title": "Elaborando a ANACOR"
   },
   "outputs": [],
   "source": [
    "\n",
    "# Na função, o input é a tabela de contingência criada antes!\n",
    "\n",
    "ca = prince.CA().fit(tabela)"
   ]
  },
  {
   "cell_type": "code",
   "execution_count": null,
   "id": "551a90ff",
   "metadata": {
    "title": "Obtendo os eigenvalues"
   },
   "outputs": [],
   "source": [
    "\n",
    "tabela_autovalores = ca.eigenvalues_summary\n",
    "\n",
    "print(tabela_autovalores)\n",
    "\n",
    "# São gerados 'm' autovalores: m = mín(I-1,J-1)"
   ]
  },
  {
   "cell_type": "code",
   "execution_count": null,
   "id": "7d5f4ce7",
   "metadata": {
    "title": "Obtendo a inércia principal total"
   },
   "outputs": [],
   "source": [
    "\n",
    "# É a soma dos eigenvalues (também é a divisão: estat. qui² / N)\n",
    "# Quanto maior a inércia principal total, maior é a associação entre categorias\n",
    "\n",
    "print(ca.total_inertia_)"
   ]
  },
  {
   "cell_type": "code",
   "execution_count": null,
   "id": "c30210b2",
   "metadata": {
    "title": "Obtendo as coordenadas do mapa perceptual"
   },
   "outputs": [],
   "source": [
    "\n",
    "# Coordenadas da variável em linha\n",
    "print(ca.row_coordinates(tabela))\n",
    "\n",
    "# Coordenadas da variável em coluna\n",
    "print(ca.column_coordinates(tabela))"
   ]
  },
  {
   "cell_type": "code",
   "execution_count": null,
   "id": "75f089b8",
   "metadata": {
    "title": "Plotando o mapa percentual da Anacor"
   },
   "outputs": [],
   "source": [
    "\n",
    "chart_df_row = pd.DataFrame({'var_row': tabela.index,\n",
    "                             'x_row':ca.row_coordinates(tabela)[0].values,\n",
    "                             'y_row': ca.row_coordinates(tabela)[1].values})\n",
    "\n",
    "chart_df_col = pd.DataFrame({'var_col': tabela.columns,\n",
    "                             'x_col':ca.column_coordinates(tabela)[0].values,\n",
    "                             'y_col': ca.column_coordinates(tabela)[1].values})\n",
    "\n",
    "def label_point(x, y, val, ax):\n",
    "    a = pd.concat({'x': x, 'y': y, 'val': val}, axis=1)\n",
    "    for i, point in a.iterrows():\n",
    "        ax.text(point['x'] + 0.03, point['y'] - 0.02, point['val'], fontsize=6)\n",
    "\n",
    "label_point(x = chart_df_col['x_col'],\n",
    "            y = chart_df_col['y_col'],\n",
    "            val = chart_df_col['var_col'],\n",
    "            ax = plt.gca())\n",
    "\n",
    "label_point(x = chart_df_row['x_row'],\n",
    "            y = chart_df_row['y_row'],\n",
    "            val = chart_df_row['var_row'],\n",
    "            ax = plt.gca()) \n",
    "\n",
    "sns.scatterplot(data=chart_df_row, x='x_row', y='y_row', s=20)\n",
    "sns.scatterplot(data=chart_df_col, x='x_col', y='y_col', s=20)\n",
    "sns.despine(top=True, right=True, left=False, bottom=False)\n",
    "plt.axhline(y=0, color='lightgrey', ls='--', linewidth=0.8)\n",
    "plt.axvline(x=0, color='lightgrey', ls='--', linewidth=0.8)\n",
    "plt.tick_params(size=2, labelsize=6)\n",
    "plt.title(\"Mapa Perceptual - Anacor\", fontsize=12)\n",
    "plt.xlabel(f\"Dim. 1: {tabela_autovalores.iloc[0,1]} da inércia\", fontsize=8)\n",
    "plt.ylabel(f\"Dim. 2: {tabela_autovalores.iloc[1,1]} da inércia\", fontsize=8)\n",
    "plt.show()"
   ]
  },
  {
   "cell_type": "code",
   "execution_count": null,
   "id": "7c86d301",
   "metadata": {
    "title": "Obtendo as coordenadas das observações"
   },
   "outputs": [],
   "source": [
    "\n",
    "# Identificando as variáveis em linha e em coluna\n",
    "coord_obs = gestao.rename(columns={'avaliacao':'var_row',\n",
    "                                   'ano':'var_col'})\n",
    "\n",
    "# Unindo as coordenadas das categorias ao DataFrame\n",
    "coord_obs = pd.merge(coord_obs, chart_df_row, how='left', on='var_row')\n",
    "coord_obs = pd.merge(coord_obs, chart_df_col, how='left', on='var_col')\n",
    "\n",
    "# Calculando as coordenadas médias das observações (média de suas categorias)\n",
    "coord_obs['x_obs'] = coord_obs[['x_row','x_col']].mean(axis=1)\n",
    "coord_obs['y_obs'] = coord_obs[['y_row','y_col']].mean(axis=1)"
   ]
  },
  {
   "cell_type": "code",
   "execution_count": null,
   "id": "d9eeffbd",
   "metadata": {
    "title": "FIM!"
   },
   "outputs": [],
   "source": []
  }
 ],
 "metadata": {
  "jupytext": {
   "cell_metadata_filter": "title,-all",
   "encoding": "# -*- coding: utf-8 -*-",
   "main_language": "python",
   "notebook_metadata_filter": "-all"
  }
 },
 "nbformat": 4,
 "nbformat_minor": 5
}
