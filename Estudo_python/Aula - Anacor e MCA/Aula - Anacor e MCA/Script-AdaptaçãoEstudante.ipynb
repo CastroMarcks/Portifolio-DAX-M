{
 "cells": [
  {
   "cell_type": "code",
   "execution_count": null,
   "id": "9cfee18c",
   "metadata": {},
   "outputs": [],
   "source": [
    "\n",
    "# Análise de Correspondência Simples e Múltipla\n",
    "# MBA em Data Science e Analytics USP ESALQ\n",
    "\n",
    "# Prof. Dr. Wilson Tarantin Junior"
   ]
  },
  {
   "cell_type": "code",
   "execution_count": null,
   "id": "5de201f3",
   "metadata": {
    "title": "Instalando os pacotes"
   },
   "outputs": [],
   "source": [
    "\n",
    "! pip install pandas\n",
    "! pip install numpy\n",
    "! pip install scipy\n",
    "! pip install plotly\n",
    "! pip install seaborn\n",
    "! pip install matplotlib\n",
    "! pip install statsmodels\n",
    "! pip install prince"
   ]
  },
  {
   "cell_type": "code",
   "execution_count": null,
   "id": "2a9be62f",
   "metadata": {
    "title": "Importando os pacotes necessários"
   },
   "outputs": [],
   "source": [
    "\n",
    "import pandas as pd\n",
    "import numpy as np\n",
    "from scipy.stats import chi2_contingency\n",
    "import statsmodels.api as sm\n",
    "import seaborn as sns\n",
    "import matplotlib.pyplot as plt\n",
    "import prince\n",
    "import plotly.express as px\n",
    "import plotly.io as pio\n",
    "pio.renderers.default = 'browser'\n",
    "import plotly.graph_objects as go\n",
    "from itertools import combinations"
   ]
  },
  {
   "cell_type": "code",
   "execution_count": null,
   "id": "95311f91",
   "metadata": {
    "title": "Análise de Correspondência Múltipla (MCA)"
   },
   "outputs": [],
   "source": [
    "\n",
    "# Importando o banco de dados\n",
    "\n",
    "dados_mca = pd.read_csv(\"estudantes_adapta.csv\")\n",
    "# Fonte: adaptado de https://www.kaggle.com/datasets/mdmahmudulhasansuzan/students-adaptability-level-in-online-education\n",
    "# Suzan et al.(2021) Students' Adaptability Level Prediction in Online Education using Machine Learning Approaches - DOI: 10.1109/ICCCNT51525.2021.9579741"
   ]
  },
  {
   "cell_type": "code",
   "execution_count": null,
   "id": "ee5fe3f0",
   "metadata": {
    "title": "Tabelas de frequências das variáveis"
   },
   "outputs": [],
   "source": [
    "\n",
    "print(dados_mca['Education'].value_counts())\n",
    "print(dados_mca['Institution'].value_counts())\n",
    "print(dados_mca['Financial'].value_counts())\n",
    "print(dados_mca['Internet'].value_counts())\n",
    "print(dados_mca['Adaptivity'].value_counts())"
   ]
  },
  {
   "cell_type": "code",
   "execution_count": null,
   "id": "14192474",
   "metadata": {
    "title": "Analisando as tabelas de contingência"
   },
   "outputs": [],
   "source": [
    "\n",
    "# Vamos gerar as tabelas de contingência em relação à \"Adaptivity\"\n",
    "\n",
    "tabela_mca_1 = pd.crosstab(dados_mca[\"Adaptivity\"], dados_mca[\"Education\"])\n",
    "tabela_mca_2 = pd.crosstab(dados_mca[\"Adaptivity\"], dados_mca[\"Institution\"])\n",
    "tabela_mca_3 = pd.crosstab(dados_mca[\"Adaptivity\"], dados_mca[\"Financial\"])\n",
    "tabela_mca_4 = pd.crosstab(dados_mca[\"Adaptivity\"], dados_mca[\"Internet\"])\n",
    "\n",
    "print(tabela_mca_1)\n",
    "print(tabela_mca_2)\n",
    "print(tabela_mca_3)\n",
    "print(tabela_mca_4)"
   ]
  },
  {
   "cell_type": "code",
   "execution_count": null,
   "id": "e2df8e54",
   "metadata": {
    "title": "Analisando a significância estatística das associações (teste qui²)"
   },
   "outputs": [],
   "source": [
    "\n",
    "tab_1 = chi2_contingency(tabela_mca_1)\n",
    "\n",
    "print(\"Adaptivity x Education\")\n",
    "print(f\"estatística qui²: {round(tab_1[0], 2)}\")\n",
    "print(f\"p-valor da estatística: {round(tab_1[1], 4)}\")\n",
    "print(f\"graus de liberdade: {tab_1[2]}\")\n",
    "\n",
    "tab_2 = chi2_contingency(tabela_mca_2)\n",
    "\n",
    "print(\"Adaptivity x Institution\")\n",
    "print(f\"estatística qui²: {round(tab_2[0], 2)}\")\n",
    "print(f\"p-valor da estatística: {round(tab_2[1], 4)}\")\n",
    "print(f\"graus de liberdade: {tab_2[2]}\")\n",
    "\n",
    "tab_3 = chi2_contingency(tabela_mca_3)\n",
    "\n",
    "print(\"Adaptivity x Financial\")\n",
    "print(f\"estatística qui²: {round(tab_3[0], 2)}\")\n",
    "print(f\"p-valor da estatística: {round(tab_3[1], 4)}\")\n",
    "print(f\"graus de liberdade: {tab_3[2]}\")\n",
    "\n",
    "tab_4 = chi2_contingency(tabela_mca_4)\n",
    "\n",
    "print(\"Adaptivity x Internet\")\n",
    "print(f\"estatística qui²: {round(tab_4[0], 2)}\")\n",
    "print(f\"p-valor da estatística: {round(tab_4[1], 4)}\")\n",
    "print(f\"graus de liberdade: {tab_4[2]}\")"
   ]
  },
  {
   "cell_type": "code",
   "execution_count": null,
   "id": "368c7bff",
   "metadata": {
    "title": "Elaborando a MCA"
   },
   "outputs": [],
   "source": [
    "\n",
    "mca = prince.MCA(n_components=3).fit(dados_mca)\n",
    "\n",
    "# Vamos parametrizar a MCA para três dimensões\n",
    "# O objetivo é criar um mapa perceptual 3D"
   ]
  },
  {
   "cell_type": "code",
   "execution_count": null,
   "id": "f4c494b3",
   "metadata": {
    "title": "Quantidade total de dimensões"
   },
   "outputs": [],
   "source": [
    "\n",
    "# Quantidade de dimensões = qtde total de categorias - qtde de variáveis\n",
    "\n",
    "# Quantidade total de categorias\n",
    "mca.J_\n",
    "\n",
    "# Quantidade de variáveis na análise\n",
    "mca.K_\n",
    "\n",
    "# Quantidade de dimensões\n",
    "quant_dim = mca.J_ - mca.K_\n",
    "\n",
    "# Resumo das informações\n",
    "print(f\"quantidade total de categorias: {mca.J_}\")\n",
    "print(f\"quantidade de variáveis: {mca.K_}\")\n",
    "print(f\"quantidade de dimensões: {quant_dim}\")"
   ]
  },
  {
   "cell_type": "code",
   "execution_count": null,
   "id": "11cc9f69",
   "metadata": {
    "title": "Obtendo os eigenvalues"
   },
   "outputs": [],
   "source": [
    "\n",
    "tabela_autovalores = mca.eigenvalues_summary\n",
    "\n",
    "print(tabela_autovalores)"
   ]
  },
  {
   "cell_type": "code",
   "execution_count": null,
   "id": "c0177c01",
   "metadata": {
    "title": "Inércia principal total"
   },
   "outputs": [],
   "source": [
    "\n",
    "# Soma de todos os autovalores (todas as dimensões existentes)\n",
    "\n",
    "print(mca.total_inertia_)"
   ]
  },
  {
   "cell_type": "code",
   "execution_count": null,
   "id": "591c8c56",
   "metadata": {
    "title": "Média da inércia principal total por dimensão"
   },
   "outputs": [],
   "source": [
    "\n",
    "# É interessante plotar apenas dimensões com autovalores maiores do que a média\n",
    "\n",
    "print(mca.total_inertia_/quant_dim)\n",
    "\n",
    "# Neste caso, as 3 dimensões extraídas têm autovalores > 0.199"
   ]
  },
  {
   "cell_type": "code",
   "execution_count": null,
   "id": "1e4db605",
   "metadata": {
    "title": "Obtendo as coordenadas principais das categorias das variáveis"
   },
   "outputs": [],
   "source": [
    "\n",
    "coord_burt = mca.column_coordinates(dados_mca)\n",
    "\n",
    "print(coord_burt)"
   ]
  },
  {
   "cell_type": "code",
   "execution_count": null,
   "id": "7f305fda",
   "metadata": {
    "title": "Obtendo as coordenadas-padrão das categorias das variáveis"
   },
   "outputs": [],
   "source": [
    "\n",
    "coord_padrao = mca.column_coordinates(dados_mca)/np.sqrt(mca.eigenvalues_)\n",
    "\n",
    "print(coord_padrao)"
   ]
  },
  {
   "cell_type": "code",
   "execution_count": null,
   "id": "6155faf3",
   "metadata": {
    "title": "Obtendo as coordenadas das observações do banco de dados"
   },
   "outputs": [],
   "source": [
    "\n",
    "# Na função, as coordenadas das observações vêm das coordenadas-padrão\n",
    "\n",
    "coord_obs = mca.row_coordinates(dados_mca)\n",
    "\n",
    "print(coord_obs)"
   ]
  },
  {
   "cell_type": "code",
   "execution_count": null,
   "id": "c41dc2d2",
   "metadata": {
    "title": "Plotando o mapa perceptual (coordenadas-padrão)"
   },
   "outputs": [],
   "source": [
    "\n",
    "# Primeiro passo: gerar um DataFrame detalhado\n",
    "\n",
    "chart = coord_padrao.reset_index()\n",
    "\n",
    "var_chart = pd.Series(chart['index'].str.split('_', expand=True).iloc[:,0])\n",
    "\n",
    "nome_categ=[]\n",
    "for col in dados_mca:\n",
    "    nome_categ.append(dados_mca[col].sort_values(ascending=True).unique())\n",
    "    categorias = pd.DataFrame(nome_categ).stack().reset_index()\n",
    "\n",
    "chart_df_mca = pd.DataFrame({'categoria': chart['index'],\n",
    "                             'obs_x': chart[0],\n",
    "                             'obs_y': chart[1],\n",
    "                             'obs_z': chart[2],\n",
    "                             'variavel': var_chart,\n",
    "                             'categoria_id': categorias[0]})\n",
    "\n",
    "# Segundo passo: gerar o gráfico de pontos\n",
    "\n",
    "fig = px.scatter_3d(chart_df_mca, \n",
    "                    x='obs_x', \n",
    "                    y='obs_y', \n",
    "                    z='obs_z',\n",
    "                    color='variavel',\n",
    "                    text=chart_df_mca.categoria_id)\n",
    "fig.show()"
   ]
  },
  {
   "cell_type": "code",
   "execution_count": null,
   "id": "5dfe392d",
   "metadata": {
    "title": "FIM!"
   },
   "outputs": [],
   "source": []
  }
 ],
 "metadata": {
  "jupytext": {
   "cell_metadata_filter": "title,-all",
   "encoding": "# -*- coding: utf-8 -*-",
   "main_language": "python",
   "notebook_metadata_filter": "-all"
  }
 },
 "nbformat": 4,
 "nbformat_minor": 5
}
